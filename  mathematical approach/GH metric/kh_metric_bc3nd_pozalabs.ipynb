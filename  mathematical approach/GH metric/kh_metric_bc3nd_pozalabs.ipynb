{
  "nbformat": 4,
  "nbformat_minor": 0,
  "metadata": {
    "colab": {
      "provenance": []
    },
    "kernelspec": {
      "name": "python3",
      "display_name": "Python 3"
    },
    "language_info": {
      "name": "python"
    }
  },
  "cells": [
    {
      "cell_type": "code",
      "execution_count": null,
      "metadata": {
        "id": "TLVz0CtBR_jo"
      },
      "outputs": [],
      "source": [
        "import os\n",
        "import pandas as pd\n",
        "import numpy as np"
      ]
    },
    {
      "cell_type": "code",
      "source": [
        "chord = pd.read_csv('commu_meta.csv')"
      ],
      "metadata": {
        "id": "RQkEQqUaSZHm"
      },
      "execution_count": null,
      "outputs": []
    },
    {
      "cell_type": "code",
      "source": [
        "temp = []\n",
        "for k in chord['chord_progressions']:\n",
        "  temp.append(k.replace(\"'\", \"\")[2:-2].split(', '))\n",
        "chord['chord_progressions'] = temp"
      ],
      "metadata": {
        "id": "nXqSRqPmnawR"
      },
      "execution_count": null,
      "outputs": []
    },
    {
      "cell_type": "code",
      "source": [
        "prog = chord['chord_progressions']"
      ],
      "metadata": {
        "id": "g6FSZsmgaCQ-"
      },
      "execution_count": null,
      "outputs": []
    },
    {
      "cell_type": "code",
      "source": [
        "fifth_circle = pd.DataFrame([[+0, -5, +2, -3, +4, -1, -6, +1, -4, +3, -2, +5], # C\n",
        "                             [+5, +0, -5, +2, -3, +4, -1, -6, +1, -4, +3, -2], # C#\n",
        "                             [-2, +5, +0, -5, +2, -3, +4, -1, -6, +1, -4, +3], # D\n",
        "                             [+3, -2, +5, +0, -5, +2, -3, +4, -1, -6, +1, -4], # D#\n",
        "                             [-4, +3, -2, +5, +0, -5, +2, -3, +4, -1, -6, +1], # E\n",
        "                             [+1, -4, +3, -2, +5, +0, -5, +2, -3, +4, -1, -6], # F\n",
        "                             [-6, +1, -4, +3, -2, +5, +0, -5, +2, -3, +4, -1], # F#\n",
        "                             [-1, -6, +1, -4, +3, -2, +5, +0, -5, +2, -3, +4], # G\n",
        "                             [+4, -1, -6, +1, -4, +3, -2, +5, +0, -5, +2, -3], # G#\n",
        "                             [-3, +4, -1, -6, +1, -4, +3, -2, +5, +0, -5, +2], # A\n",
        "                             [+2, -3, +4, -1, -6, +1, -4, +3, -2, +5, +0, -5], # A#\n",
        "                             [-5, +2, -3, +4, -1, -6, +1, -4, +3, -2, +5, +0] # B\n",
        "                             ])"
      ],
      "metadata": {
        "id": "-MTbz_iGMcgd"
      },
      "execution_count": null,
      "outputs": []
    },
    {
      "cell_type": "code",
      "source": [
        "base = {\"C\":0, \"C#\":1, \"D\":2, \"D#\":3, \"E\":4, \"F\":5, \"F#\":6, \"G\":7,\n",
        "        \"G#\":8, \"A\":9, \"A#\":10, \"B\":11}\n",
        "\n",
        "# 1음은 전부 0으로 표시되므로 넣을 필요가 없었음!\n",
        "chord_dict = {\"\": [4, 7, 12], \"m\": [3, 7, 12], \"+\": [4, 8, 12], \"7\": [4, 7, 10],\n",
        "              \"maj7\": [4, 7, 11], \"m7\": [3, 7, 10],\n",
        "              \"sus4\": [5, 7, 12], \"dim\": [3, 6, 12],\n",
        "              \"m7b5\": [3, 6, 10]}\n",
        "\n",
        "chordlist = []\n",
        "howspecial = []\n",
        "for i in range(len(base)):\n",
        "    bassnote = list(base.keys())[i]\n",
        "    for j in range(len(chord_dict)):\n",
        "        chordstyle = list(chord_dict.keys())[j]\n",
        "        original_chord = bassnote + chordstyle\n",
        "        chordlist.append(original_chord)\n",
        "\n",
        "        bassnum = base[bassnote]\n",
        "        chordnum = chord_dict[chordstyle]\n",
        "        chordvector = [bassnum] + chordnum\n",
        "        special = 0\n",
        "        for k in [1, 3, 6, 8, 10, 13, 15, 18, 20, 22, 25]:\n",
        "            if k in chordvector:\n",
        "                special = special + 1\n",
        "        \n",
        "        howspecial.append(special)\n",
        "\n",
        "specialty = pd.DataFrame(howspecial)\n",
        "specialty.index = chordlist\n",
        "specialty\n",
        "\n",
        "special_dict = {}\n",
        "for k in range(len(howspecial)):\n",
        "    special_dict[chordlist[k]] = howspecial[k]\n",
        "special_dict"
      ],
      "metadata": {
        "id": "iaHYyEX4cqj1",
        "colab": {
          "base_uri": "https://localhost:8080/"
        },
        "outputId": "b7caea5b-639f-48cb-f18b-c3459e3456bb"
      },
      "execution_count": null,
      "outputs": [
        {
          "output_type": "execute_result",
          "data": {
            "text/plain": [
              "{'C': 0,\n",
              " 'Cm': 1,\n",
              " 'C+': 1,\n",
              " 'C7': 1,\n",
              " 'Cmaj7': 0,\n",
              " 'Cm7': 2,\n",
              " 'Csus4': 0,\n",
              " 'Cdim': 2,\n",
              " 'Cm7b5': 3,\n",
              " 'C#': 1,\n",
              " 'C#m': 2,\n",
              " 'C#+': 2,\n",
              " 'C#7': 2,\n",
              " 'C#maj7': 1,\n",
              " 'C#m7': 3,\n",
              " 'C#sus4': 1,\n",
              " 'C#dim': 3,\n",
              " 'C#m7b5': 4,\n",
              " 'D': 0,\n",
              " 'Dm': 1,\n",
              " 'D+': 1,\n",
              " 'D7': 1,\n",
              " 'Dmaj7': 0,\n",
              " 'Dm7': 2,\n",
              " 'Dsus4': 0,\n",
              " 'Ddim': 2,\n",
              " 'Dm7b5': 3,\n",
              " 'D#': 1,\n",
              " 'D#m': 1,\n",
              " 'D#+': 2,\n",
              " 'D#7': 2,\n",
              " 'D#maj7': 1,\n",
              " 'D#m7': 2,\n",
              " 'D#sus4': 1,\n",
              " 'D#dim': 2,\n",
              " 'D#m7b5': 3,\n",
              " 'E': 0,\n",
              " 'Em': 1,\n",
              " 'E+': 1,\n",
              " 'E7': 1,\n",
              " 'Emaj7': 0,\n",
              " 'Em7': 2,\n",
              " 'Esus4': 0,\n",
              " 'Edim': 2,\n",
              " 'Em7b5': 3,\n",
              " 'F': 0,\n",
              " 'Fm': 1,\n",
              " 'F+': 1,\n",
              " 'F7': 1,\n",
              " 'Fmaj7': 0,\n",
              " 'Fm7': 2,\n",
              " 'Fsus4': 0,\n",
              " 'Fdim': 2,\n",
              " 'Fm7b5': 3,\n",
              " 'F#': 1,\n",
              " 'F#m': 2,\n",
              " 'F#+': 2,\n",
              " 'F#7': 2,\n",
              " 'F#maj7': 1,\n",
              " 'F#m7': 3,\n",
              " 'F#sus4': 1,\n",
              " 'F#dim': 2,\n",
              " 'F#m7b5': 3,\n",
              " 'G': 0,\n",
              " 'Gm': 1,\n",
              " 'G+': 1,\n",
              " 'G7': 1,\n",
              " 'Gmaj7': 0,\n",
              " 'Gm7': 2,\n",
              " 'Gsus4': 0,\n",
              " 'Gdim': 2,\n",
              " 'Gm7b5': 3,\n",
              " 'G#': 1,\n",
              " 'G#m': 2,\n",
              " 'G#+': 1,\n",
              " 'G#7': 2,\n",
              " 'G#maj7': 1,\n",
              " 'G#m7': 3,\n",
              " 'G#sus4': 1,\n",
              " 'G#dim': 3,\n",
              " 'G#m7b5': 4,\n",
              " 'A': 0,\n",
              " 'Am': 1,\n",
              " 'A+': 1,\n",
              " 'A7': 1,\n",
              " 'Amaj7': 0,\n",
              " 'Am7': 2,\n",
              " 'Asus4': 0,\n",
              " 'Adim': 2,\n",
              " 'Am7b5': 3,\n",
              " 'A#': 1,\n",
              " 'A#m': 2,\n",
              " 'A#+': 2,\n",
              " 'A#7': 1,\n",
              " 'A#maj7': 1,\n",
              " 'A#m7': 2,\n",
              " 'A#sus4': 1,\n",
              " 'A#dim': 3,\n",
              " 'A#m7b5': 3,\n",
              " 'B': 0,\n",
              " 'Bm': 1,\n",
              " 'B+': 1,\n",
              " 'B7': 1,\n",
              " 'Bmaj7': 0,\n",
              " 'Bm7': 2,\n",
              " 'Bsus4': 0,\n",
              " 'Bdim': 2,\n",
              " 'Bm7b5': 3}"
            ]
          },
          "metadata": {},
          "execution_count": 5
        }
      ]
    },
    {
      "cell_type": "code",
      "source": [
        "def make_chord_matrix_fifth_circle(n, M):\n",
        "    prog = M['chord_progressions']\n",
        "    checker = 1\n",
        "    # First chord matrix\n",
        "    for i in range(len(prog[n])):\n",
        "        checker = 1\n",
        "        if (len(prog[n][i]) == 1):\n",
        "            checker = 1\n",
        "        elif (prog[n][i][1] == \"#\"):\n",
        "            checker = 2\n",
        "        basenote = prog[n][i][0:checker]\n",
        "        current_base = [base[basenote]]\n",
        "        special_scale = [special_dict[prog[n][i]]]\n",
        "        \n",
        "        chord_type = prog[n][i][checker:]\n",
        "        if (chord_type == ''):\n",
        "            current_code = [4, 7, 12]    # Major\n",
        "        else:\n",
        "            current_code = chord_dict[chord_type]\n",
        "\n",
        "        current = current_base + current_code + special_scale\n",
        "\n",
        "        if (i == 0):\n",
        "            prev = current\n",
        "        elif (i == 1):\n",
        "            temp = [previ - currenti for previ, currenti in zip(prev[1:-1], current[1:-1])]\n",
        "            chord_diff = fifth_circle.iloc[prev[0], current[0]]\n",
        "            temp = [chord_diff] + temp + special_scale\n",
        "            chord_mat1 = np.array([temp])\n",
        "            prev = current\n",
        "        else:\n",
        "            temp = [previ - currenti for previ, currenti in zip(prev[1:-1], current[1:-1])]\n",
        "            chord_diff = fifth_circle.iloc[prev[0], current[0]]\n",
        "            temp = [chord_diff] + temp + special_scale\n",
        "            chord_mat1 = np.concatenate([chord_mat1, np.array([temp])], 0)\n",
        "            prev = current\n",
        "    \n",
        "    return chord_mat1"
      ],
      "metadata": {
        "id": "UTpKlod79rGH"
      },
      "execution_count": null,
      "outputs": []
    },
    {
      "cell_type": "code",
      "source": [
        "# Data 전처리\n",
        "chord_8 = chord[chord['num_measures'] == 8]\n",
        "chord_4 = chord[chord['num_measures'] == 4]\n",
        "chord_16 = chord[chord['num_measures'] == 16]\n",
        "\n",
        "# 박자 구분\n",
        "chord_8_44 = chord_8[chord_8['time_signature'] == '4/4']\n",
        "chord_8_34 = chord_8[chord_8['time_signature'] == '3/4']\n",
        "chord_8_68 = chord_8[chord_8['time_signature'] == '6/8']\n",
        "\n",
        "chord_4_44 = chord_4[chord_4['time_signature'] == '4/4']\n",
        "\n",
        "chord_4_44_major = chord_4_44[chord_4_44['audio_key'] == 'cmajor']\n",
        "chord_4_44_minor = chord_4_44[chord_4_44['audio_key'] == 'aminor']\n",
        "\n",
        "chord_4_34 = chord_4[chord_4['time_signature'] == '3/4']\n",
        "chord_4_68 = chord_4[chord_4['time_signature'] == '6/8']\n",
        "\n",
        "chord_16_44 = chord_16[chord_16['time_signature'] == '4/4']\n",
        "chord_16_34 = chord_16[chord_16['time_signature'] == '3/4']\n",
        "\n",
        "# Index 수정\n",
        "chord_8_44 = chord_8_44.reset_index(level=None, col_level=0)\n",
        "chord_8_34 = chord_8_34.reset_index(level=None, col_level=0)\n",
        "chord_8_68 = chord_8_68.reset_index(level=None, col_level=0)\n",
        "\n",
        "chord_4_44 = chord_4_44.reset_index(level=None, col_level=0)\n",
        "\n",
        "chord_4_44_major = chord_4_44_major.reset_index(level=None, col_level=0)\n",
        "chord_4_44_minor = chord_4_44_minor.reset_index(level=None, col_level=0)\n",
        "\n",
        "chord_4_34 = chord_4_34.reset_index(level=None, col_level=0)\n",
        "chord_4_68 = chord_4_68.reset_index(level=None, col_level=0)\n",
        "\n",
        "chord_16_44 = chord_16_44.reset_index(level=None, col_level=0)\n",
        "chord_16_34 = chord_16_34.reset_index(level=None, col_level=0)"
      ],
      "metadata": {
        "id": "lGBeF4JltiNj"
      },
      "execution_count": null,
      "outputs": []
    },
    {
      "cell_type": "code",
      "source": [
        "fifth_circle.index = ['C', 'C#', 'D', 'D#', 'E', 'F',\n",
        "                      'F#', 'G', 'G#', 'A', 'A#', 'B']\n",
        "fifth_circle.columns = ['C', 'C#', 'D', 'D#', 'E', 'F', \n",
        "                        'F#', 'G', 'G#', 'A', 'A#', 'B']"
      ],
      "metadata": {
        "id": "mTn9FA9lMl--"
      },
      "execution_count": null,
      "outputs": []
    },
    {
      "cell_type": "code",
      "source": [
        "def compare_chord_fifth_circle(num1, num2, M):\n",
        "    # M: 전처리된 matrix\n",
        "    M = M.reset_index(level=None, col_level=0)\n",
        "    prog = M['chord_progressions']\n",
        "\n",
        "    checker = 1\n",
        "    # First chord matrix\n",
        "    chord_mat1 = make_chord_matrix_fifth_circle(num1, M)\n",
        "\n",
        "    # Second chord matrix\n",
        "    chord_mat2 = make_chord_matrix_fifth_circle(num2, M)\n",
        "    \n",
        "    compare_matrix = chord_mat1 - chord_mat2\n",
        "    compare_matrix[:,0] = np.log2(abs(compare_matrix[:,0])+1)        # 밑이 2인 로그로 변환\n",
        "    compare_matrix[:,-1] = np.log2(abs(compare_matrix[:,-1])+1)      # 밑이 2인 로그로 변환\n",
        "\n",
        "    return compare_matrix"
      ],
      "metadata": {
        "id": "FXAJwZB8JMho"
      },
      "execution_count": null,
      "outputs": []
    },
    {
      "cell_type": "code",
      "source": [
        "def similarity_calculation_fifth_circle(M):\n",
        "    size = M.shape[0]\n",
        "    print(\"분석 대상 곡 수: {0}\".format(size))\n",
        "    res_total = np.eye(size)\n",
        "    res_bass = np.eye(size)\n",
        "    res_chord = np.eye(size)\n",
        "    res_specialty = np.eye(size)\n",
        "    n_count = 0\n",
        "    for i in range(size):\n",
        "        for j in range(i, size):\n",
        "            tmp = compare_chord_fifth_circle(i, j, M)    # difference matrix 생성\n",
        "            tmp = np.delete(tmp, np.argwhere(np.all(tmp[..., :] == 0, axis=0)), axis=1)         # zero column 제거\n",
        "            if (tmp.shape[1] == 0):\n",
        "                res_total[i][j] = 0\n",
        "                res_bass[i][j] = 0\n",
        "                res_chord[i][j] = 0\n",
        "                res_specialty[i][j] = 0\n",
        "                n_count = n_count + 1\n",
        "            else: \n",
        "                tmp = tmp[~np.all(tmp == 0, axis=1)]         # zero row도 제거\n",
        "                tmp = pd.DataFrame(tmp)                      # dataframe으로 변경\n",
        "\n",
        "                tmp_a = tmp.iloc[:,0].pow(2)                 # 근음은 제곱함\n",
        "                tmp_b = abs(tmp.iloc[:, 1:-1])*1.25          # 코드 종류 부분은 절댓값 취하고 1.25배 함\n",
        "                tmp_c = tmp.iloc[:,-1].pow(2)/10            # 스페셜지표는 절댓값 취함\n",
        "                tmp = pd.concat([tmp_a, tmp_b, tmp_c], axis=1)\n",
        "\n",
        "                bassnote_diff = 0\n",
        "                chordstyle_diff = 0\n",
        "                specialty_diff = 0\n",
        "                for k in range(tmp.shape[0]):\n",
        "                    for l in range(tmp.shape[1]):\n",
        "                        if l == 0:\n",
        "                            bassnote_diff = bassnote_diff + tmp.iloc[k, l]\n",
        "                        elif l == tmp.shape[1]-1:\n",
        "                            specialty_diff = specialty_diff + tmp.iloc[k, 1]\n",
        "                        else:\n",
        "                            chordstyle_diff = chordstyle_diff + tmp.iloc[k, l]\n",
        "\n",
        "                total_count = bassnote_diff + chordstyle_diff + specialty_diff\n",
        "\n",
        "                res_total[i][j] = total_count\n",
        "                res_bass[i][j] = bassnote_diff\n",
        "                res_chord[i][j] = chordstyle_diff\n",
        "                res_specialty[i][j] = specialty_diff\n",
        "\n",
        "                n_count = n_count + 1\n",
        "\n",
        "            if (n_count % 1000 == 0):\n",
        "                print(\"계산 {0}개째 완료.\".format(n_count))\n",
        "\n",
        "    return res_total, res_bass, res_chord, res_specialty"
      ],
      "metadata": {
        "id": "j4t5ugjlOPSS"
      },
      "execution_count": null,
      "outputs": []
    },
    {
      "cell_type": "code",
      "source": [
        "t, b, c, s = similarity_calculation_fifth_circle(chord_4_44_major[0:10])"
      ],
      "metadata": {
        "colab": {
          "base_uri": "https://localhost:8080/"
        },
        "id": "rzho1l6Z4GBZ",
        "outputId": "bf2b7cfd-373a-4141-9590-2fc9630443b8"
      },
      "execution_count": null,
      "outputs": [
        {
          "output_type": "stream",
          "name": "stdout",
          "text": [
            "분석 대상 곡 수: 10\n"
          ]
        },
        {
          "output_type": "stream",
          "name": "stderr",
          "text": [
            "/usr/local/lib/python3.7/dist-packages/ipykernel_launcher.py:15: RuntimeWarning: divide by zero encountered in log2\n",
            "  from ipykernel import kernelapp as app\n"
          ]
        }
      ]
    },
    {
      "cell_type": "code",
      "source": [
        "t, b, c, s = similarity_calculation_fifth_circle(chord_4_44_major[0:100])"
      ],
      "metadata": {
        "colab": {
          "base_uri": "https://localhost:8080/"
        },
        "id": "reXj0mgH1NmG",
        "outputId": "aaa15850-30da-4cbb-ea1d-82bd71d27ffe"
      },
      "execution_count": null,
      "outputs": [
        {
          "output_type": "stream",
          "name": "stdout",
          "text": [
            "분석 대상 곡 수: 100\n",
            "계산 1000개째 완료.\n",
            "계산 2000개째 완료.\n",
            "계산 3000개째 완료.\n",
            "계산 4000개째 완료.\n",
            "계산 5000개째 완료.\n"
          ]
        }
      ]
    },
    {
      "cell_type": "code",
      "source": [
        "def one_to_one_error_calc(num1, num2, M):\n",
        "    M_prog = M['chord_progressions']\n",
        "    tmp = compare_chord_fifth_circle(num1, num2, M)\n",
        "    tmp = np.delete(tmp, np.argwhere(np.all(tmp[..., :] == 0, axis=0)), axis=1)         # zero column 제거\n",
        "    if (tmp.shape[1] == 0):\n",
        "        t = 0\n",
        "        b = 0\n",
        "        c = 0\n",
        "        s = 0\n",
        "        error_list = [t, b, c, s]\n",
        "    else: \n",
        "        tmp = tmp[~np.all(tmp == 0, axis=1)]         # zero row도 제거\n",
        "        tmp = pd.DataFrame(tmp)                      # dataframe으로 변경\n",
        "\n",
        "        tmp_a = tmp.iloc[:,0].pow(2)*10                 # 근음은 제곱함\n",
        "        tmp_b = abs(tmp.iloc[:, 1:-1])*10               # 코드 종류 부분은 절댓값 취하고 1.25배 함\n",
        "        tmp_c = tmp.iloc[:,-1].pow(2)/4*10              # 논다이어토닉은 제곱함\n",
        "        tmp = pd.concat([tmp_a, tmp_b, tmp_c], axis=1)  # 곱해주는 숫자들은 b:c:nd = 3:2:1로 맞춰주기 위함\n",
        "\n",
        "        bassnote_diff = 0\n",
        "        chordstyle_diff = 0\n",
        "        specialty_diff = 0\n",
        "        for k in range(tmp.shape[0]):\n",
        "            for l in range(tmp.shape[1]):\n",
        "                if l == 0:\n",
        "                    bassnote_diff = bassnote_diff + tmp.iloc[k, l]\n",
        "                elif l == tmp.shape[1]-1:\n",
        "                    specialty_diff = specialty_diff + tmp.iloc[k, l]\n",
        "                else:\n",
        "                    chordstyle_diff = chordstyle_diff + tmp.iloc[k, l]\n",
        "\n",
        "        b = bassnote_diff/len(M_prog[num1])\n",
        "        c = chordstyle_diff/len(M_prog[num1])\n",
        "        s = specialty_diff/len(M_prog[num1])\n",
        "        t = b+c+s\n",
        "        error_list = [t, b, c, s]\n",
        "    return error_list"
      ],
      "metadata": {
        "id": "788r43NaIvz8"
      },
      "execution_count": null,
      "outputs": []
    }
  ]
}